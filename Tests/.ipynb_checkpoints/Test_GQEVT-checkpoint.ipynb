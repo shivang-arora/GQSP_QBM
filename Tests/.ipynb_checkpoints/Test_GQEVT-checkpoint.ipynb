{
 "cells": [
  {
   "cell_type": "code",
   "execution_count": 1,
   "id": "a4656562-10b2-497c-b2df-817c67d928ab",
   "metadata": {},
   "outputs": [],
   "source": [
    "import sys\n",
    "import os\n",
    "\n",
    "# Add parent directory to path\n",
    "parent_dir = os.path.abspath(\"..\")\n",
    "if parent_dir not in sys.path:\n",
    "    sys.path.insert(0, parent_dir)#\n",
    "\n",
    "# Now import\n",
    "from GQEVT import *\n",
    "from helper import *"
   ]
  },
  {
   "cell_type": "code",
   "execution_count": 2,
   "id": "c9920d44-b826-4512-a570-7531be256df6",
   "metadata": {},
   "outputs": [],
   "source": [
    "\n",
    "\n",
    "from numpy.polynomial.chebyshev import Chebyshev, chebval\n",
    "import numpy as np\n",
    "\n",
    "from pyqsp.poly import PolyTaylorSeries\n",
    "\n",
    "def eval_exp(poly,x):\n",
    "    \n",
    "    cheb_poly = Chebyshev(poly)  # ← instantiate once\n",
    "\n",
    "    \n",
    "    y0   = cheb_poly(x)          \n",
    "    return y0\n",
    "\n",
    "def generate_coeff_exp(n=30,beta=-1.0):\n",
    "        '''\n",
    "    \n",
    "        Generate coefficients in the Chebychev basis for the function 1/x.\n",
    "        '''\n",
    "           # e^{β x} on  x∈[-1,1]\n",
    "        samples = 2*n         # slight oversampling avoids aliasing\n",
    "\n",
    "# build the Chebyshev expansion\n",
    "        poly = PolyTaylorSeries()\n",
    "        c,scale = poly.taylor_series(\n",
    "            \n",
    "                func          = lambda x: np.exp(beta * x),  # or np.exp(1j*t*x) for e^{i t x}\n",
    "                degree        = n,\n",
    "                chebyshev_basis = True,   # <- ask for Chebyshev—not monomial—coeffs\n",
    "                cheb_samples  = samples,  # # of interpolation nodes\n",
    "                return_scale  = True,\n",
    "            )# only need the coefficients\n",
    "        \n",
    "      # c[0], c[1], … , c[n]  (d\n",
    "        return c.coef,scale\n",
    "\n",
    "\n",
    "\n"
   ]
  },
  {
   "cell_type": "code",
   "execution_count": 3,
   "id": "4e0a839c-a038-4657-8d1e-d55905edc790",
   "metadata": {},
   "outputs": [
    {
     "name": "stdout",
     "output_type": "stream",
     "text": [
      "\n",
      " Matrix : \n",
      " \n"
     ]
    },
    {
     "data": {
      "text/latex": [
       "$\\displaystyle \\begin{bmatrix}\n",
       "0.01 & 0.16 & 0.10500000000000001 & 0.05 \\\\\n",
       "0.16 & 0.4 & 0.1 & -0.05 \\\\\n",
       "0.10500000000000001 & 0.1 & 0.2 & 0.05 \\\\\n",
       "0.05 & -0.05 & 0.05 & 0.0 \\\\\n",
       "\\end{bmatrix}$"
      ],
      "text/plain": [
       "<IPython.core.display.Math object>"
      ]
     },
     "metadata": {},
     "output_type": "display_data"
    },
    {
     "name": "stdout",
     "output_type": "stream",
     "text": [
      "[PolyTaylorSeries] (Cheb) max 0.33109149705429813 is at -1.0: normalizing\n",
      "[PolyTaylorSeries] (Cheb) average error = 2.2121193765656243e-16 in the domain [-1, 1] using degree 30\n",
      "Eigenvalues of A:  0.5123563697912202 -0.09426380736664114 -0.00032985368632286314 0.1922372912617434\n"
     ]
    },
    {
     "data": {
      "image/png": "[encoded data removed]",
      "text/plain": [
       "<Figure size 640x480 with 1 Axes>"
      ]
     },
     "metadata": {},
     "output_type": "display_data"
    }
   ],
   "source": [
    "# Define Arbitrary Matrix to perform GQEVT\n",
    "\n",
    "A = np.array([[0.01,0.22,0.11,0.0],[0.1,0.4,0,0.1],[0.1,0.2,0.2,0.1],[0.1,-0.2,0,0]])\n",
    "#A=np.array([[0.2,0.1],[0.4,0.1]])\n",
    "\n",
    "A=(A+A.conj().T)/2\n",
    "\n",
    "# Taking the Hermitian part\n",
    "\n",
    "print('\\n Matrix : \\n ')\n",
    "latex_matrix(A)\n",
    "\n",
    "\n",
    "# Define polynomial degree for approximation\n",
    "n=30\n",
    "\n",
    "# Define prefactor y=exp(beta*x)\n",
    "beta=-1\n",
    "\n",
    "poly,scale=generate_coeff_exp(n,beta)\n",
    "\n",
    "x=np.linspace(-2,2,100)\n",
    "plt.plot(x,eval_exp(poly,x))\n",
    "plt.plot(x,scale*np.exp(-x),label='exact')\n",
    "#plt.axvline(x=1/kappa)\n",
    "\n",
    "\n",
    "e1,e2,e3,e4=np.linalg.eigvals(A)\n",
    "plt.axvline(x=e1,linestyle='--',label='eigenvalue 1')\n",
    "#plt.ylim(0,7)\n",
    "plt.legend()\n",
    "print('Eigenvalues of A: ', e1,e2,e3,e4)"
   ]
  },
  {
   "cell_type": "code",
   "execution_count": 4,
   "id": "a921fc2c-b763-44aa-8f18-ae41a3edc966",
   "metadata": {},
   "outputs": [
    {
     "name": "stdout",
     "output_type": "stream",
     "text": [
      "[PolyTaylorSeries] (Cheb) max 0.33109149705429847 is at -1.0: normalizing\n",
      "[PolyTaylorSeries] (Cheb) average error = 2.1996293675385913e-16 in the domain [-1, 1] using degree 20\n",
      "\n",
      "Measurement results : \n",
      "\n",
      " tensor([ 0.6667+0.j, -0.0854+0.j, -0.0580+0.j, -0.0339+0.j,  0.7333+0.j,  0.0581+0.j,\n",
      "         0.0406+0.j,  0.0315+0.j,  0.0000+0.j,  0.0000+0.j,  0.0000+0.j,  0.0000+0.j,\n",
      "         0.0000+0.j,  0.0000+0.j,  0.0000+0.j,  0.0000+0.j],\n",
      "       dtype=torch.complex128)\n",
      "Exact evaluation: \n",
      " [[ 0.66670502 -0.08543764 -0.05798999 -0.03388014]\n",
      " [-0.08543764  0.45307576 -0.04568331  0.03103513]\n",
      " [-0.05798999 -0.04568331  0.54810209 -0.02986464]\n",
      " [-0.03388014  0.03103513 -0.02986464  0.66433203]]\n",
      "\n",
      "Eigenvalues of transformed matrix (exact) :  [0.3965486  0.727358   0.66214518 0.54616312]\n",
      "Original eigenvalues: 0.5123563697912202 -0.09426380736664114 -0.00032985368632286314 0.1922372912617434\n"
     ]
    },
    {
     "name": "stderr",
     "output_type": "stream",
     "text": [
      "C:\\Users\\arora\\anaconda3\\envs\\pyqsp\\Lib\\site-packages\\pennylane\\ops\\op_math\\controlled_ops.py:41: PennyLaneDeprecationWarning: The control_wires input to ControlledQubitUnitary is deprecated and will be removed in v0.42. Please note that the second positional arg of your input is going to be the new wires, following wires=controlled_wires+target_wires, where target_wires is the optional arg wires in the legacy interface.\n",
      "  warnings.warn(\n"
     ]
    }
   ],
   "source": [
    "from scipy.linalg import expm   \n",
    "\n",
    "gqevt=GQEVT(20,-1,'GQSP')\n",
    "\n",
    "gqevt.build(A)\n",
    "\n",
    "\n",
    "result=gqevt.measure_qnode()\n",
    "\n",
    "print('\\nMeasurement results : \\n\\n' , result)\n",
    "\n",
    "\n",
    "scale=gqevt.scale\n",
    "exact=expm(-A)/gqevt.norm\n",
    "print('Exact evaluation: \\n', exact)\n",
    "print('\\nEigenvalues of transformed matrix (exact) : ',np.linalg.eigvals(exact))\n",
    "#print('Calculated result from original eigenvals :',np.exp(-e1),np.exp(-e2),np.exp(-e3),np.exp(-e4))\n",
    "print('Original eigenvalues:', e1,e2,e3,e4)\n",
    "\n"
   ]
  },
  {
   "cell_type": "code",
   "execution_count": null,
   "id": "bd5239bb-1102-46a5-ad5c-a1167d9fd72e",
   "metadata": {},
   "outputs": [],
   "source": []
  }
 ],
 "metadata": {
  "kernelspec": {
   "display_name": "Python 3 (ipykernel)",
   "language": "python",
   "name": "python3"
  },
  "language_info": {
   "codemirror_mode": {
    "name": "ipython",
    "version": 3
   },
   "file_extension": ".py",
   "mimetype": "text/x-python",
   "name": "python",
   "nbconvert_exporter": "python",
   "pygments_lexer": "ipython3",
   "version": "3.11.11"
  }
 },
 "nbformat": 4,
 "nbformat_minor": 5
}
