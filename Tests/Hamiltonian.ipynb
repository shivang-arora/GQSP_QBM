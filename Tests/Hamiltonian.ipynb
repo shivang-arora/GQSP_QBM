{
 "cells": [
  {
   "cell_type": "markdown",
   "id": "9302ef86-0cdf-4690-b0b5-626151e72bcc",
   "metadata": {},
   "source": [
    "## Class defining the Hamiltonian for QBM"
   ]
  },
  {
   "cell_type": "code",
   "execution_count": 1,
   "id": "19240810-a3f0-4e58-8e1c-0111bf880fc9",
   "metadata": {},
   "outputs": [],
   "source": [
    "import sys\n",
    "import os\n",
    "\n",
    "# Add parent directory to path\n",
    "parent_dir = os.path.abspath(\"..\")\n",
    "if parent_dir not in sys.path:\n",
    "    sys.path.insert(0, parent_dir)\n",
    "\n",
    "# Now import\n",
    "from hamiltonian import *\n"
   ]
  },
  {
   "cell_type": "code",
   "execution_count": 6,
   "id": "88d5745f-c712-474d-8826-8cabf716c307",
   "metadata": {},
   "outputs": [],
   "source": [
    "\n",
    "# 1. Define the number of hidden units for the QBM and the number of visible units (equal to the dimentions of data)\n",
    "\n",
    "n_visible=3\n",
    "n_hidden=2\n",
    "\n",
    "    #out of the visible units , dedicated qubits for output (i.e log2(num_classes)): \n",
    "\n",
    "n_output=1\n",
    "\n",
    "\n",
    "#2.Define the interaction terms for the QBM Hamiltonian as a list\n",
    "\n",
    "#eg. terms=['Z','Y','XX']\n",
    "# Note: Only isotropic terms are allowed for now\n",
    "\n",
    "terms=['X','Z','ZZ']\n",
    "\n",
    "\n",
    "# Define a ModelHamiltonian object\n",
    "H=ModelHamiltonian(n_hidden,n_visible,terms,n_output,connectivity='all')\n",
    "\n",
    "# By default the connectivity is set to 'all',  i.e ,all qubits have all to all connectivity"
   ]
  },
  {
   "cell_type": "markdown",
   "id": "dfb906b5-5762-4901-8474-986ec8ace5dc",
   "metadata": {},
   "source": [
    "### Check Connections"
   ]
  },
  {
   "cell_type": "code",
   "execution_count": 7,
   "id": "987fea9c-d86e-4632-8f27-a04a4a5ce45d",
   "metadata": {},
   "outputs": [
    {
     "name": "stdout",
     "output_type": "stream",
     "text": [
      "Hidden Qubits: h0 to h1  , Visible Qubits: v0 to v2\n",
      "The connections are : \n",
      "\n",
      "{'X': [('h0',), ('h1',)], 'Z': [('h0',), ('h1',), ('v0',), ('v1',), ('v2',)], 'ZZ': [('h0', 'h1'), ('h0', 'v0'), ('h0', 'v1'), ('h0', 'v2'), ('h1', 'v0'), ('h1', 'v1'), ('h1', 'v2'), ('v0', 'v1'), ('v0', 'v2'), ('v1', 'v2')]}\n",
      "\n",
      "The random weights are : \n",
      "\n",
      "{'X': array([0.53033795, 0.82147582]), 'Z': array([0.556046  , 0.12634861, 0.78095827, 0.55788868, 0.95962713]), 'ZZ': array([0.03125945, 0.34256644, 0.54889111, 0.46892607, 0.40044898,\n",
      "       0.972053  , 0.85614994, 0.98741032, 0.70347883, 0.09826972])}\n"
     ]
    }
   ],
   "source": [
    "\n",
    "# The connections are stored in the dictionary connections corresponding to each pauli word .\n",
    "print(f'Hidden Qubits: h0 to h{n_hidden-1}  , Visible Qubits: v0 to v{n_visible-1}')\n",
    "print('The connections are : \\n')\n",
    "print(H.connections)\n",
    "\n",
    "# for each connection in each term, the randomly assigned weights are\n",
    "print('\\nThe random weights are : \\n')\n",
    "print(H.params)"
   ]
  },
  {
   "cell_type": "code",
   "execution_count": 8,
   "id": "39874954-c5f9-45c0-bef0-7215046d767e",
   "metadata": {},
   "outputs": [
    {
     "name": "stdout",
     "output_type": "stream",
     "text": [
      "The x-clamped hamiltonian corresponding to the inputs is: \n"
     ]
    },
    {
     "data": {
      "text/plain": [
       "(\n",
       "    0.5303379472889647 * X(0)\n",
       "  + 0.8214758193644209 * X(1)\n",
       "  + 0.9450070339592203 * Z(0)\n",
       "  + 0.8665954823136931 * Z(1)\n",
       "  + 1.2005055981165753 * Z(2)\n",
       "  + 0.03125945386698126 * (Z(0) @ Z(1))\n",
       "  + 0.34256643769813244 * (Z(0) @ Z(2))\n",
       "  + 0.40044897583960415 * (Z(1) @ Z(2))\n",
       ")"
      ]
     },
     "execution_count": 8,
     "metadata": {},
     "output_type": "execute_result"
    }
   ],
   "source": [
    "#Given an input eg.x=[-1,2] and y=[1] , we can build the clamped hamiltonians for the QBM\n",
    "\n",
    "x=[-1,2]\n",
    "y=[1]\n",
    "\n",
    "H_x= H.build_hamiltonians(x,y=None)\n",
    "\n",
    "H_xy=H.build_hamiltonians(x,y)\n",
    "\n",
    "print('The x-clamped hamiltonian corresponding to the inputs is: ')\n",
    "\n",
    "H_x"
   ]
  },
  {
   "cell_type": "code",
   "execution_count": 9,
   "id": "a9910599-4c11-4bc8-b3fa-2ea9ebf903bd",
   "metadata": {},
   "outputs": [
    {
     "name": "stdout",
     "output_type": "stream",
     "text": [
      "The xy-clamped hamiltonian corresponding to the inputs is: \n"
     ]
    },
    {
     "data": {
      "text/plain": [
       "(\n",
       "    0.5303379472889647 * X(0)\n",
       "  + 0.8214758193644209 * X(1)\n",
       "  + 1.2875734716573528 * Z(0)\n",
       "  + 1.2670444581532974 * Z(1)\n",
       "  + 0.03125945386698126 * (Z(0) @ Z(1))\n",
       ")"
      ]
     },
     "execution_count": 9,
     "metadata": {},
     "output_type": "execute_result"
    }
   ],
   "source": [
    "print('The xy-clamped hamiltonian corresponding to the inputs is: ')\n",
    "H_xy"
   ]
  },
  {
   "cell_type": "code",
   "execution_count": null,
   "id": "50bb7587-3c0b-4b27-b471-6d67934363d8",
   "metadata": {},
   "outputs": [],
   "source": []
  }
 ],
 "metadata": {
  "kernelspec": {
   "display_name": "Python 3 (ipykernel)",
   "language": "python",
   "name": "python3"
  },
  "language_info": {
   "codemirror_mode": {
    "name": "ipython",
    "version": 3
   },
   "file_extension": ".py",
   "mimetype": "text/x-python",
   "name": "python",
   "nbconvert_exporter": "python",
   "pygments_lexer": "ipython3",
   "version": "3.11.11"
  }
 },
 "nbformat": 4,
 "nbformat_minor": 5
}
