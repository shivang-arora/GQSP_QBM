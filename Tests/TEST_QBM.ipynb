{
 "cells": [
  {
   "cell_type": "code",
   "execution_count": 8,
   "id": "549c9bb1-c7e5-4127-b01f-1acbdab7b195",
   "metadata": {},
   "outputs": [],
   "source": [
    "import sys\n",
    "import os\n",
    "\n",
    "# Add parent directory to path\n",
    "parent_dir = os.path.abspath(\"..\")\n",
    "if parent_dir not in sys.path:\n",
    "    sys.path.insert(0, parent_dir)\n",
    "\n",
    "# Now import\n",
    "from hamiltonian import *\n",
    "from QBM import *"
   ]
  },
  {
   "cell_type": "code",
   "execution_count": 9,
   "id": "72de774c-f8de-4e4c-a25f-64f7f9fa1ed4",
   "metadata": {},
   "outputs": [],
   "source": [
    "\n",
    "# 1. Define the number of hidden units for the QBM and the number of visible units (equal to the dimentions of data)\n",
    "\n",
    "n_visible=3\n",
    "n_hidden=2\n",
    "\n",
    "    #out of the visible units , dedicated qubits for output (i.e log2(num_classes)): \n",
    "\n",
    "n_output=1\n",
    "\n",
    "\n",
    "#2.Define the interaction terms for the QBM Hamiltonian as a list\n",
    "\n",
    "#eg. terms=['Z','Y','XX']\n",
    "# Note: Only isotropic terms are allowed for now\n",
    "\n",
    "terms=['X','Z','ZZ']\n",
    "\n",
    "\n",
    "\n"
   ]
  },
  {
   "cell_type": "code",
   "execution_count": 10,
   "id": "7f9a385d-f2fa-4373-9802-1843863ec54d",
   "metadata": {},
   "outputs": [
    {
     "name": "stdout",
     "output_type": "stream",
     "text": [
      "[PolyTaylorSeries] (Cheb) max 0.8143536762323639 is at -1.0: normalizing\n",
      "[PolyTaylorSeries] (Cheb) average error = 6.217248937900877e-17 in the domain [-1, 1] using degree 20\n"
     ]
    }
   ],
   "source": [
    "qbm=QBM(n_hidden,n_visible,1,terms)"
   ]
  },
  {
   "cell_type": "code",
   "execution_count": null,
   "id": "bb2a5edb-f7e1-4296-9599-1cfed67cbd1a",
   "metadata": {},
   "outputs": [],
   "source": []
  }
 ],
 "metadata": {
  "kernelspec": {
   "display_name": "Python 3 (ipykernel)",
   "language": "python",
   "name": "python3"
  },
  "language_info": {
   "codemirror_mode": {
    "name": "ipython",
    "version": 3
   },
   "file_extension": ".py",
   "mimetype": "text/x-python",
   "name": "python",
   "nbconvert_exporter": "python",
   "pygments_lexer": "ipython3",
   "version": "3.11.11"
  }
 },
 "nbformat": 4,
 "nbformat_minor": 5
}
